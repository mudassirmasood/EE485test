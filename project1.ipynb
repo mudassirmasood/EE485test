{
 "cells": [
  {
   "cell_type": "code",
   "execution_count": 1,
   "id": "fe2a0265",
   "metadata": {},
   "outputs": [
    {
     "name": "stdout",
     "output_type": "stream",
     "text": [
      "[[-0.29319792  2.51018862 -0.252627   -0.32990425  0.68252267]\n",
      " [ 0.70085433  0.47464509  1.47882454 -2.04771327  0.56848088]\n",
      " [-0.55885531  0.31554605 -1.53150571  2.76724121 -1.41914911]\n",
      " [ 2.07873312 -0.75236461 -0.99001193  1.1182527   1.23275082]\n",
      " [ 0.06478703  0.6650149  -0.72408519  0.89839425  0.19381259]]\n"
     ]
    }
   ],
   "source": [
    "import numpy as np\n",
    "\n",
    "A = np.random.randn(5,5)\n",
    "print(A)\n"
   ]
  },
  {
   "cell_type": "code",
   "execution_count": 3,
   "id": "a781060b",
   "metadata": {},
   "outputs": [
    {
     "name": "stdout",
     "output_type": "stream",
     "text": [
      "[[-1.84610879  0.01593643 -0.84038433 -2.85015428 -0.73159509]\n",
      " [ 0.82140001  0.01436544  0.39676998  0.13953688 -0.8163698 ]\n",
      " [ 0.57326777  0.12991952 -0.15505264  0.68110292 -0.63319345]\n",
      " [-0.16161624  1.01486802  0.66612065  2.53324109  0.66014344]\n",
      " [ 1.3641002  -0.29753881 -1.61434053 -0.27749471  0.43352261]]\n"
     ]
    }
   ],
   "source": [
    "B = np.random.randn(5,5)\n",
    "print(B)"
   ]
  },
  {
   "cell_type": "markdown",
   "id": "0219fde3",
   "metadata": {},
   "source": [
    "## this is in branch mynewbranch\n"
   ]
  }
 ],
 "metadata": {
  "kernelspec": {
   "display_name": "Python 3 (ipykernel)",
   "language": "python",
   "name": "python3"
  },
  "language_info": {
   "codemirror_mode": {
    "name": "ipython",
    "version": 3
   },
   "file_extension": ".py",
   "mimetype": "text/x-python",
   "name": "python",
   "nbconvert_exporter": "python",
   "pygments_lexer": "ipython3",
   "version": "3.9.7"
  }
 },
 "nbformat": 4,
 "nbformat_minor": 5
}
