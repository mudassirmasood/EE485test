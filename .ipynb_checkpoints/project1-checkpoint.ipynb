{
 "cells": [
  {
   "cell_type": "code",
   "execution_count": 1,
   "id": "8c08d0e5",
   "metadata": {},
   "outputs": [
    {
     "name": "stdout",
     "output_type": "stream",
     "text": [
      "[[-0.29319792  2.51018862 -0.252627   -0.32990425  0.68252267]\n",
      " [ 0.70085433  0.47464509  1.47882454 -2.04771327  0.56848088]\n",
      " [-0.55885531  0.31554605 -1.53150571  2.76724121 -1.41914911]\n",
      " [ 2.07873312 -0.75236461 -0.99001193  1.1182527   1.23275082]\n",
      " [ 0.06478703  0.6650149  -0.72408519  0.89839425  0.19381259]]\n"
     ]
    }
   ],
   "source": [
    "import numpy as np\n",
    "\n",
    "A = np.random.randn(5,5)\n",
    "print(A)\n"
   ]
  }
 ],
 "metadata": {
  "kernelspec": {
   "display_name": "Python 3 (ipykernel)",
   "language": "python",
   "name": "python3"
  },
  "language_info": {
   "codemirror_mode": {
    "name": "ipython",
    "version": 3
   },
   "file_extension": ".py",
   "mimetype": "text/x-python",
   "name": "python",
   "nbconvert_exporter": "python",
   "pygments_lexer": "ipython3",
   "version": "3.9.7"
  }
 },
 "nbformat": 4,
 "nbformat_minor": 5
}
